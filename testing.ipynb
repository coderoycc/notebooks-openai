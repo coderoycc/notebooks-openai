{
  "nbformat": 4,
  "nbformat_minor": 0,
  "metadata": {
    "colab": {
      "provenance": [],
      "authorship_tag": "ABX9TyPUbTJEnDB3+Bs2c3Ew2bLk",
      "include_colab_link": true
    },
    "kernelspec": {
      "name": "python3",
      "display_name": "Python 3"
    },
    "language_info": {
      "name": "python"
    }
  },
  "cells": [
    {
      "cell_type": "markdown",
      "metadata": {
        "id": "view-in-github",
        "colab_type": "text"
      },
      "source": [
        "<a href=\"https://colab.research.google.com/github/coderoycc/notebooks-openai/blob/main/testing.ipynb\" target=\"_parent\"><img src=\"https://colab.research.google.com/assets/colab-badge.svg\" alt=\"Open In Colab\"/></a>"
      ]
    },
    {
      "cell_type": "code",
      "execution_count": null,
      "metadata": {
        "id": "XigbRgSxW1yU"
      },
      "outputs": [],
      "source": [
        "data = [{\n",
        "\"Product_ID\": 1052,\n",
        "\"Sale_Date\": \"2023-02-03\",\n",
        "\"Sales_Rep\": \"Bob\",\n",
        "\"Region\": \"North\",\n",
        "\"Sales_Amount\": 5053.97,\n",
        "\"Quantity_Sold\": 18,\n",
        "\"Product_Category\": \"Furniture\",\n",
        "\"Unit_Cost\": 152.75,\n",
        "\"Unit_Price\": 267.22,\n",
        "\"Customer_Type\": \"Returning\",\n",
        "\"Discount\": 0.09,\n",
        "\"Payment_Method\": \"Cash\",\n",
        "\"Sales_Channel\": \"Online\",\n",
        "\"Region_and_Sales_Rep\": \"North-Bob\"\n",
        "},\n",
        "        {\n",
        "\"Product_ID\": 1052,\n",
        "\"Sale_Date\": \"2023-02-03\",\n",
        "\"Sales_Rep\": \"BUU\",\n",
        "\"Region\": \"North\",\n",
        "\"Sales_Amount\": 5053.97,\n",
        "\"Quantity_Sold\": 18,\n",
        "\"Product_Category\": \"Furniture\",\n",
        "\"Unit_Cost\": 152.75,\n",
        "\"Unit_Price\": 267.22,\n",
        "\"Customer_Type\": \"Returning\",\n",
        "\"Discount\": 0.09,\n",
        "\"Payment_Method\": \"Cash\",\n",
        "\"Sales_Channel\": \"Online\",\n",
        "\"Region_and_Sales_Rep\": \"North-Bob\"\n",
        "}]"
      ]
    },
    {
      "cell_type": "code",
      "source": [
        "filtered = []\n",
        "for item in data:\n",
        "  if item[\"Sales_Rep\"] == \"Bob\":\n",
        "    filtered.append(item)\n",
        "\n",
        "filtered"
      ],
      "metadata": {
        "colab": {
          "base_uri": "https://localhost:8080/"
        },
        "id": "ugT2k1smW44c",
        "outputId": "fc438d9f-b31a-433d-e06b-4e85c20c6392"
      },
      "execution_count": null,
      "outputs": [
        {
          "output_type": "execute_result",
          "data": {
            "text/plain": [
              "[{'Product_ID': 1052,\n",
              "  'Sale_Date': '2023-02-03',\n",
              "  'Sales_Rep': 'Bob',\n",
              "  'Region': 'North',\n",
              "  'Sales_Amount': 5053.97,\n",
              "  'Quantity_Sold': 18,\n",
              "  'Product_Category': 'Furniture',\n",
              "  'Unit_Cost': 152.75,\n",
              "  'Unit_Price': 267.22,\n",
              "  'Customer_Type': 'Returning',\n",
              "  'Discount': 0.09,\n",
              "  'Payment_Method': 'Cash',\n",
              "  'Sales_Channel': 'Online',\n",
              "  'Region_and_Sales_Rep': 'North-Bob'}]"
            ]
          },
          "metadata": {},
          "execution_count": 5
        }
      ]
    }
  ]
}