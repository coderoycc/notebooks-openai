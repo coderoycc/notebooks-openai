{
  "nbformat": 4,
  "nbformat_minor": 0,
  "metadata": {
    "colab": {
      "provenance": [],
      "authorship_tag": "ABX9TyNj8dWTkzmMxot9I0g4//rM",
      "include_colab_link": true
    },
    "kernelspec": {
      "name": "python3",
      "display_name": "Python 3"
    },
    "language_info": {
      "name": "python"
    }
  },
  "cells": [
    {
      "cell_type": "markdown",
      "metadata": {
        "id": "view-in-github",
        "colab_type": "text"
      },
      "source": [
        "<a href=\"https://colab.research.google.com/github/coderoycc/notebooks-openai/blob/main/colab_local_ai_model.ipynb\" target=\"_parent\"><img src=\"https://colab.research.google.com/assets/colab-badge.svg\" alt=\"Open In Colab\"/></a>"
      ]
    },
    {
      "cell_type": "markdown",
      "source": [
        "# Uso de un modelo local para hacer LangChain"
      ],
      "metadata": {
        "id": "rYI_nF7ShYz4"
      }
    },
    {
      "cell_type": "markdown",
      "source": [
        "## Lectura de clave privada\n",
        "- El token debe estar en secrets de google colab con el nombre de `AI_TOKEN`"
      ],
      "metadata": {
        "id": "gViRACBJgeNo"
      }
    },
    {
      "cell_type": "code",
      "source": [
        "from google.colab import userdata\n",
        "token = userdata.get('AI_TOKEN')\n",
        "if token is None:\n",
        "  raise Exception(\"Token no encontrado, agregue el token en 'Secrets' con el nombre AI_TOKEN\")\n",
        "else:\n",
        "  print('TOKEN CARGADO')"
      ],
      "metadata": {
        "colab": {
          "base_uri": "https://localhost:8080/"
        },
        "id": "s11vNTmfh2Na",
        "outputId": "37e60e51-7923-4dcf-ff65-55a3f3310c11"
      },
      "execution_count": 1,
      "outputs": [
        {
          "output_type": "stream",
          "name": "stdout",
          "text": [
            "TOKEN CARGADO\n"
          ]
        }
      ]
    },
    {
      "cell_type": "code",
      "source": [
        "# URL de la API (tunel por ngrok)\n",
        "url_base_api_local = \"https://uncongenial-angie-juryrigged.ngrok-free.dev/v1\""
      ],
      "metadata": {
        "id": "QBVeeH3GihFy"
      },
      "execution_count": 10,
      "outputs": []
    },
    {
      "cell_type": "code",
      "source": [
        "# Agregado del token como Bearer en los headers\n",
        "import requests\n",
        "headers = {\"Authorization\": f\"Bearer {token}\", \"accept\": \"application/json\"}"
      ],
      "metadata": {
        "id": "8vFnBcy-jFrD"
      },
      "execution_count": 7,
      "outputs": []
    },
    {
      "cell_type": "code",
      "source": [
        "# Peticion de todos los modelos instalados localmente\n",
        "response = requests.get(f\"{url_base_api_local}/models\", headers=headers)\n",
        "data = response.json()"
      ],
      "metadata": {
        "id": "YtUPrtRUi7jh"
      },
      "execution_count": null,
      "outputs": []
    },
    {
      "cell_type": "code",
      "source": [
        "# Ejecutar el modelo instalado con una pregunta\n",
        "modelo = data.model_list[0].id\n",
        "body = { \"model\": modelo, messages: [{ \"role\": \"system\", \"message\": \"You are a medical assistant\" }, { \"role\": \"user\", \"content\": \"I've a headache tell me posible reasons\"}] }\n",
        "api_res = requests.post(f\"{url_base_api_local}/chat/completions\", json=body )"
      ],
      "metadata": {
        "id": "UsCE6CxhnHWq"
      },
      "execution_count": null,
      "outputs": []
    },
    {
      "cell_type": "code",
      "source": [],
      "metadata": {
        "id": "8M8Syuxl1i-b"
      },
      "execution_count": null,
      "outputs": []
    }
  ]
}